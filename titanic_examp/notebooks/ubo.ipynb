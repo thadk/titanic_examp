{
 "cells": [
  {
   "cell_type": "code",
   "execution_count": 9,
   "metadata": {},
   "outputs": [
    {
     "name": "stdout",
     "output_type": "stream",
     "text": [
      "Requirement already satisfied: pandas in /Users/thadk/.pyenv/versions/3.11.2/lib/python3.11/site-packages (2.1.4)\n",
      "Requirement already satisfied: numpy<2,>=1.23.2 in /Users/thadk/.pyenv/versions/3.11.2/lib/python3.11/site-packages (from pandas) (1.26.2)\n",
      "Requirement already satisfied: python-dateutil>=2.8.2 in /Users/thadk/.pyenv/versions/3.11.2/lib/python3.11/site-packages (from pandas) (2.8.2)\n",
      "Requirement already satisfied: pytz>=2020.1 in /Users/thadk/.pyenv/versions/3.11.2/lib/python3.11/site-packages (from pandas) (2023.3.post1)\n",
      "Requirement already satisfied: tzdata>=2022.1 in /Users/thadk/.pyenv/versions/3.11.2/lib/python3.11/site-packages (from pandas) (2023.3)\n",
      "Requirement already satisfied: six>=1.5 in /Users/thadk/.pyenv/versions/3.11.2/lib/python3.11/site-packages (from python-dateutil>=2.8.2->pandas) (1.16.0)\n",
      "\n",
      "\u001b[1m[\u001b[0m\u001b[34;49mnotice\u001b[0m\u001b[1;39;49m]\u001b[0m\u001b[39;49m A new release of pip available: \u001b[0m\u001b[31;49m22.3.1\u001b[0m\u001b[39;49m -> \u001b[0m\u001b[32;49m23.3.1\u001b[0m\n",
      "\u001b[1m[\u001b[0m\u001b[34;49mnotice\u001b[0m\u001b[1;39;49m]\u001b[0m\u001b[39;49m To update, run: \u001b[0m\u001b[32;49mpip install --upgrade pip\u001b[0m\n",
      "Note: you may need to restart the kernel to use updated packages.\n"
     ]
    }
   ],
   "source": [
    "%pip install pandas"
   ]
  },
  {
   "cell_type": "code",
   "execution_count": 10,
   "metadata": {},
   "outputs": [],
   "source": [
    "import pandas as pd\n",
    "import json\n",
    "# Set the maximum number of rows and columns to display\n",
    "pd.set_option('display.max_rows', None)  # None means unlimited\n",
    "pd.set_option('display.max_columns', None)  # None means unlimited\n",
    "\n",
    "# Your DataFrame operations here\n",
    "\n",
    "# Reset options to default (if needed)\n",
    "pd.reset_option('display.max_rows')\n",
    "pd.reset_option('display.max_columns')"
   ]
  },
  {
   "cell_type": "code",
   "execution_count": 11,
   "metadata": {},
   "outputs": [],
   "source": [
    "from IPython.display import HTML\n",
    "\n",
    "def titled_df(df, company_id): \n",
    "    display(HTML(f'<h2>{df.name} for {company_id}</h2>'))\n",
    "    display(df)"
   ]
  },
  {
   "cell_type": "code",
   "execution_count": 12,
   "metadata": {},
   "outputs": [],
   "source": [
    "#  clean up the invalid JSON files so they can be reformatted, read as JSON, or by pandas as needed.\n",
    "import re\n",
    "\n",
    "# Specify the path to your text file\n",
    "file_path = '../static/ubo.json'\n",
    "file_path_after =  '../static/ubo_valid.json'\n",
    "\n",
    "# Read the content of the file\n",
    "with open(file_path, 'r') as file:\n",
    "    file_content = file.read()\n",
    "\n",
    "# Define the regular expression patterns for replacements\n",
    "quote_pattern = re.compile(r\"'\")\n",
    "none_pattern = re.compile(r'\\bNone\\b')\n",
    "true_pattern = re.compile(r'\\bTrue\\b')\n",
    "\n",
    "# Perform the replacements\n",
    "modified_content = quote_pattern.sub('\"', file_content)\n",
    "modified_content = none_pattern.sub('null', modified_content)\n",
    "modified_content = true_pattern.sub('true', modified_content)\n",
    "\n",
    "\n",
    "# Write the modified content back to the file\n",
    "with open(file_path_after, 'w') as file:\n",
    "    file.write(modified_content)"
   ]
  },
  {
   "cell_type": "code",
   "execution_count": 13,
   "metadata": {},
   "outputs": [
    {
     "data": {
      "text/html": [
       "<h2>Paginated Output at highest level for whole ubo.json</h2>"
      ],
      "text/plain": [
       "<IPython.core.display.HTML object>"
      ]
     },
     "metadata": {},
     "output_type": "display_data"
    },
    {
     "data": {
      "text/html": [
       "<div>\n",
       "<style scoped>\n",
       "    .dataframe tbody tr th:only-of-type {\n",
       "        vertical-align: middle;\n",
       "    }\n",
       "\n",
       "    .dataframe tbody tr th {\n",
       "        vertical-align: top;\n",
       "    }\n",
       "\n",
       "    .dataframe thead th {\n",
       "        text-align: right;\n",
       "    }\n",
       "</style>\n",
       "<table border=\"1\" class=\"dataframe\">\n",
       "  <thead>\n",
       "    <tr style=\"text-align: right;\">\n",
       "      <th></th>\n",
       "      <th>api_version</th>\n",
       "      <th>results</th>\n",
       "    </tr>\n",
       "  </thead>\n",
       "  <tbody>\n",
       "    <tr>\n",
       "      <th>companies</th>\n",
       "      <td>0.4</td>\n",
       "      <td>[{'company': {'name': 'DAVID KENDRICK LIMITED'...</td>\n",
       "    </tr>\n",
       "    <tr>\n",
       "      <th>page</th>\n",
       "      <td>0.4</td>\n",
       "      <td>1</td>\n",
       "    </tr>\n",
       "    <tr>\n",
       "      <th>per_page</th>\n",
       "      <td>0.4</td>\n",
       "      <td>30</td>\n",
       "    </tr>\n",
       "    <tr>\n",
       "      <th>total_count</th>\n",
       "      <td>0.4</td>\n",
       "      <td>14</td>\n",
       "    </tr>\n",
       "    <tr>\n",
       "      <th>total_pages</th>\n",
       "      <td>0.4</td>\n",
       "      <td>1</td>\n",
       "    </tr>\n",
       "  </tbody>\n",
       "</table>\n",
       "</div>"
      ],
      "text/plain": [
       "             api_version                                            results\n",
       "companies            0.4  [{'company': {'name': 'DAVID KENDRICK LIMITED'...\n",
       "page                 0.4                                                  1\n",
       "per_page             0.4                                                 30\n",
       "total_count          0.4                                                 14\n",
       "total_pages          0.4                                                  1"
      ]
     },
     "metadata": {},
     "output_type": "display_data"
    }
   ],
   "source": [
    "json_data = pd.read_json(file_path_after) # , orient=\"columns\"\n",
    "json_data.name=\"Paginated Output at highest level\"\n",
    "titled_df(json_data, \"whole ubo.json\")"
   ]
  },
  {
   "cell_type": "code",
   "execution_count": 14,
   "metadata": {},
   "outputs": [
    {
     "data": {
      "text/html": [
       "<h2>Unmodified Dataframe for whole company from ubo.json</h2>"
      ],
      "text/plain": [
       "<IPython.core.display.HTML object>"
      ]
     },
     "metadata": {},
     "output_type": "display_data"
    },
    {
     "data": {
      "text/html": [
       "<div>\n",
       "<style scoped>\n",
       "    .dataframe tbody tr th:only-of-type {\n",
       "        vertical-align: middle;\n",
       "    }\n",
       "\n",
       "    .dataframe tbody tr th {\n",
       "        vertical-align: top;\n",
       "    }\n",
       "\n",
       "    .dataframe thead th {\n",
       "        text-align: right;\n",
       "    }\n",
       "</style>\n",
       "<table border=\"1\" class=\"dataframe\">\n",
       "  <thead>\n",
       "    <tr style=\"text-align: right;\">\n",
       "      <th></th>\n",
       "      <th>company.name</th>\n",
       "      <th>company.company_number</th>\n",
       "      <th>company.jurisdiction_code</th>\n",
       "      <th>company.incorporation_date</th>\n",
       "      <th>company.dissolution_date</th>\n",
       "      <th>company.company_type</th>\n",
       "      <th>company.registry_url</th>\n",
       "      <th>company.branch</th>\n",
       "      <th>company.branch_status</th>\n",
       "      <th>company.inactive</th>\n",
       "      <th>...</th>\n",
       "      <th>company.source.retrieved_at</th>\n",
       "      <th>company.registered_address.street_address</th>\n",
       "      <th>company.registered_address.locality</th>\n",
       "      <th>company.registered_address.region</th>\n",
       "      <th>company.registered_address.postal_code</th>\n",
       "      <th>company.registered_address.country</th>\n",
       "      <th>company.registered_address_in_full</th>\n",
       "      <th>company.industry_codes</th>\n",
       "      <th>company.restricted_for_marketing</th>\n",
       "      <th>company.native_company_number</th>\n",
       "    </tr>\n",
       "  </thead>\n",
       "  <tbody>\n",
       "    <tr>\n",
       "      <th>0</th>\n",
       "      <td>DAVID KENDRICK LIMITED</td>\n",
       "      <td>07178886</td>\n",
       "      <td>gb</td>\n",
       "      <td>2010-03-04</td>\n",
       "      <td>2021-03-16</td>\n",
       "      <td>Private Limited Company</td>\n",
       "      <td>https://beta.companieshouse.gov.uk/company/071...</td>\n",
       "      <td>None</td>\n",
       "      <td>None</td>\n",
       "      <td>True</td>\n",
       "      <td>...</td>\n",
       "      <td>2021-04-04T10:28:59+00:00</td>\n",
       "      <td>Nursey Bungalow\\nViney Hill</td>\n",
       "      <td>Lydney</td>\n",
       "      <td>Gloucestershire</td>\n",
       "      <td>GL15 4ND</td>\n",
       "      <td>United Kingdom</td>\n",
       "      <td>Nursey Bungalow\\nViney Hill, Lydney, Glouceste...</td>\n",
       "      <td>[{'industry_code': {'code': '86.90', 'descript...</td>\n",
       "      <td>None</td>\n",
       "      <td>None</td>\n",
       "    </tr>\n",
       "  </tbody>\n",
       "</table>\n",
       "<p>1 rows × 29 columns</p>\n",
       "</div>"
      ],
      "text/plain": [
       "             company.name company.company_number company.jurisdiction_code  \\\n",
       "0  DAVID KENDRICK LIMITED               07178886                        gb   \n",
       "\n",
       "  company.incorporation_date company.dissolution_date  \\\n",
       "0                 2010-03-04               2021-03-16   \n",
       "\n",
       "      company.company_type                               company.registry_url  \\\n",
       "0  Private Limited Company  https://beta.companieshouse.gov.uk/company/071...   \n",
       "\n",
       "  company.branch company.branch_status  company.inactive  ...  \\\n",
       "0           None                  None              True  ...   \n",
       "\n",
       "  company.source.retrieved_at company.registered_address.street_address  \\\n",
       "0   2021-04-04T10:28:59+00:00               Nursey Bungalow\\nViney Hill   \n",
       "\n",
       "  company.registered_address.locality company.registered_address.region  \\\n",
       "0                              Lydney                   Gloucestershire   \n",
       "\n",
       "  company.registered_address.postal_code company.registered_address.country  \\\n",
       "0                               GL15 4ND                     United Kingdom   \n",
       "\n",
       "                  company.registered_address_in_full  \\\n",
       "0  Nursey Bungalow\\nViney Hill, Lydney, Glouceste...   \n",
       "\n",
       "                              company.industry_codes  \\\n",
       "0  [{'industry_code': {'code': '86.90', 'descript...   \n",
       "\n",
       "  company.restricted_for_marketing company.native_company_number  \n",
       "0                             None                          None  \n",
       "\n",
       "[1 rows x 29 columns]"
      ]
     },
     "metadata": {},
     "output_type": "display_data"
    }
   ],
   "source": [
    "df = pd.json_normalize(json_data['results']['companies'])\n",
    "df.name = \"Unmodified Dataframe\"\n",
    "df\n",
    "titled_df(df, \"whole company from ubo.json\")"
   ]
  },
  {
   "cell_type": "markdown",
   "metadata": {},
   "source": [
    "Companies has only 1 company. If `ubo.json` had multiple companies, you could iterate over each of them instead of directly querying for the main company."
   ]
  },
  {
   "cell_type": "code",
   "execution_count": 15,
   "metadata": {},
   "outputs": [
    {
     "data": {
      "text/plain": [
       "'Single company: DAVID KENDRICK LIMITED / 07178886'"
      ]
     },
     "execution_count": 15,
     "metadata": {},
     "output_type": "execute_result"
    }
   ],
   "source": [
    "with open(file_path_after) as f:\n",
    "    data = json.load(f)\n",
    "company_id = f\"{data['results']['companies'][0]['company']['name']} / {data['results']['companies'][0]['company']['company_number']}\"\n",
    "f\"Single company: {company_id}\""
   ]
  },
  {
   "cell_type": "code",
   "execution_count": 16,
   "metadata": {},
   "outputs": [
    {
     "data": {
      "text/html": [
       "<h2>0    Trimmed Company Details into several tables:\n",
       "Name: name, dtype: object for DAVID KENDRICK LIMITED / 07178886</h2>"
      ],
      "text/plain": [
       "<IPython.core.display.HTML object>"
      ]
     },
     "metadata": {},
     "output_type": "display_data"
    },
    {
     "data": {
      "text/html": [
       "<div>\n",
       "<style scoped>\n",
       "    .dataframe tbody tr th:only-of-type {\n",
       "        vertical-align: middle;\n",
       "    }\n",
       "\n",
       "    .dataframe tbody tr th {\n",
       "        vertical-align: top;\n",
       "    }\n",
       "\n",
       "    .dataframe thead th {\n",
       "        text-align: right;\n",
       "    }\n",
       "</style>\n",
       "<table border=\"1\" class=\"dataframe\">\n",
       "  <thead>\n",
       "    <tr style=\"text-align: right;\">\n",
       "      <th></th>\n",
       "      <th>name</th>\n",
       "      <th>company_number</th>\n",
       "      <th>jurisdiction_code</th>\n",
       "      <th>incorporation_date</th>\n",
       "      <th>dissolution_date</th>\n",
       "      <th>company_type</th>\n",
       "      <th>registry_url</th>\n",
       "      <th>branch</th>\n",
       "      <th>branch_status</th>\n",
       "      <th>inactive</th>\n",
       "      <th>...</th>\n",
       "      <th>updated_at</th>\n",
       "      <th>retrieved_at</th>\n",
       "      <th>opencorporates_url</th>\n",
       "      <th>registered_address_in_full</th>\n",
       "      <th>restricted_for_marketing</th>\n",
       "      <th>native_company_number</th>\n",
       "      <th>source.publisher</th>\n",
       "      <th>source.url</th>\n",
       "      <th>source.terms</th>\n",
       "      <th>source.retrieved_at</th>\n",
       "    </tr>\n",
       "  </thead>\n",
       "  <tbody>\n",
       "    <tr>\n",
       "      <th>0</th>\n",
       "      <td>Trimmed Company Details into several tables:</td>\n",
       "      <td>07178886</td>\n",
       "      <td>gb</td>\n",
       "      <td>2010-03-04</td>\n",
       "      <td>2021-03-16</td>\n",
       "      <td>Private Limited Company</td>\n",
       "      <td>https://beta.companieshouse.gov.uk/company/071...</td>\n",
       "      <td>None</td>\n",
       "      <td>None</td>\n",
       "      <td>True</td>\n",
       "      <td>...</td>\n",
       "      <td>2021-04-04T10:28:59+00:00</td>\n",
       "      <td>2021-04-04T10:28:59+00:00</td>\n",
       "      <td>https://opencorporates.com/companies/gb/07178886</td>\n",
       "      <td>Nursey Bungalow\\nViney Hill, Lydney, Glouceste...</td>\n",
       "      <td>None</td>\n",
       "      <td>None</td>\n",
       "      <td>UK Companies House</td>\n",
       "      <td>http://xmlgw.companieshouse.gov.uk/</td>\n",
       "      <td>UK Crown Copyright</td>\n",
       "      <td>2021-04-04T10:28:59+00:00</td>\n",
       "    </tr>\n",
       "  </tbody>\n",
       "</table>\n",
       "<p>1 rows × 22 columns</p>\n",
       "</div>"
      ],
      "text/plain": [
       "                                           name company_number  \\\n",
       "0  Trimmed Company Details into several tables:       07178886   \n",
       "\n",
       "  jurisdiction_code incorporation_date dissolution_date  \\\n",
       "0                gb         2010-03-04       2021-03-16   \n",
       "\n",
       "              company_type                                       registry_url  \\\n",
       "0  Private Limited Company  https://beta.companieshouse.gov.uk/company/071...   \n",
       "\n",
       "  branch branch_status  inactive  ...                 updated_at  \\\n",
       "0   None          None      True  ...  2021-04-04T10:28:59+00:00   \n",
       "\n",
       "                retrieved_at  \\\n",
       "0  2021-04-04T10:28:59+00:00   \n",
       "\n",
       "                                 opencorporates_url  \\\n",
       "0  https://opencorporates.com/companies/gb/07178886   \n",
       "\n",
       "                          registered_address_in_full restricted_for_marketing  \\\n",
       "0  Nursey Bungalow\\nViney Hill, Lydney, Glouceste...                     None   \n",
       "\n",
       "  native_company_number    source.publisher  \\\n",
       "0                  None  UK Companies House   \n",
       "\n",
       "                            source.url        source.terms  \\\n",
       "0  http://xmlgw.companieshouse.gov.uk/  UK Crown Copyright   \n",
       "\n",
       "         source.retrieved_at  \n",
       "0  2021-04-04T10:28:59+00:00  \n",
       "\n",
       "[1 rows x 22 columns]"
      ]
     },
     "metadata": {},
     "output_type": "display_data"
    }
   ],
   "source": [
    "# Load the JSON data\n",
    "with open(file_path_after) as f:\n",
    "    data = json.load(f)\n",
    "\n",
    "# extract the only company\n",
    "company = data['results']['companies'][0]['company']\n",
    "\n",
    "# handle these separately\n",
    "registered_address = company.pop('registered_address')\n",
    "industry_codes = company.pop('industry_codes')\n",
    "prev_names = company.pop('previous_names')\n",
    "\n",
    "#explode could also be used.\n",
    "\n",
    "# Clean up the registered address column\n",
    "company_norm = pd.json_normalize(company)\n",
    "company_norm.name=\"Trimmed Company Details into several tables:\"\n",
    "titled_df(company_norm,company_id)\n"
   ]
  },
  {
   "cell_type": "code",
   "execution_count": 17,
   "metadata": {},
   "outputs": [
    {
     "data": {
      "text/html": [
       "<h2>Previous Names for DAVID KENDRICK LIMITED / 07178886</h2>"
      ],
      "text/plain": [
       "<IPython.core.display.HTML object>"
      ]
     },
     "metadata": {},
     "output_type": "display_data"
    },
    {
     "data": {
      "text/html": [
       "<div>\n",
       "<style scoped>\n",
       "    .dataframe tbody tr th:only-of-type {\n",
       "        vertical-align: middle;\n",
       "    }\n",
       "\n",
       "    .dataframe tbody tr th {\n",
       "        vertical-align: top;\n",
       "    }\n",
       "\n",
       "    .dataframe thead th {\n",
       "        text-align: right;\n",
       "    }\n",
       "</style>\n",
       "<table border=\"1\" class=\"dataframe\">\n",
       "  <thead>\n",
       "    <tr style=\"text-align: right;\">\n",
       "      <th></th>\n",
       "    </tr>\n",
       "  </thead>\n",
       "  <tbody>\n",
       "  </tbody>\n",
       "</table>\n",
       "</div>"
      ],
      "text/plain": [
       "Empty DataFrame\n",
       "Columns: []\n",
       "Index: []"
      ]
     },
     "metadata": {},
     "output_type": "display_data"
    }
   ],
   "source": [
    "\n",
    "pref_names_df = pd.json_normalize(prev_names)\n",
    "pref_names_df.name=\"Previous Names\"\n",
    "titled_df(pref_names_df,company_id)\n"
   ]
  },
  {
   "cell_type": "code",
   "execution_count": 18,
   "metadata": {},
   "outputs": [
    {
     "data": {
      "text/html": [
       "<h2>Registered Address for DAVID KENDRICK LIMITED / 07178886</h2>"
      ],
      "text/plain": [
       "<IPython.core.display.HTML object>"
      ]
     },
     "metadata": {},
     "output_type": "display_data"
    },
    {
     "data": {
      "text/html": [
       "<div>\n",
       "<style scoped>\n",
       "    .dataframe tbody tr th:only-of-type {\n",
       "        vertical-align: middle;\n",
       "    }\n",
       "\n",
       "    .dataframe tbody tr th {\n",
       "        vertical-align: top;\n",
       "    }\n",
       "\n",
       "    .dataframe thead th {\n",
       "        text-align: right;\n",
       "    }\n",
       "</style>\n",
       "<table border=\"1\" class=\"dataframe\">\n",
       "  <thead>\n",
       "    <tr style=\"text-align: right;\">\n",
       "      <th></th>\n",
       "      <th>street_address</th>\n",
       "      <th>locality</th>\n",
       "      <th>region</th>\n",
       "      <th>postal_code</th>\n",
       "      <th>country</th>\n",
       "    </tr>\n",
       "  </thead>\n",
       "  <tbody>\n",
       "    <tr>\n",
       "      <th>0</th>\n",
       "      <td>Nursey Bungalow\\nViney Hill</td>\n",
       "      <td>Lydney</td>\n",
       "      <td>Gloucestershire</td>\n",
       "      <td>GL15 4ND</td>\n",
       "      <td>United Kingdom</td>\n",
       "    </tr>\n",
       "  </tbody>\n",
       "</table>\n",
       "</div>"
      ],
      "text/plain": [
       "                street_address locality           region postal_code  \\\n",
       "0  Nursey Bungalow\\nViney Hill   Lydney  Gloucestershire    GL15 4ND   \n",
       "\n",
       "          country  \n",
       "0  United Kingdom  "
      ]
     },
     "metadata": {},
     "output_type": "display_data"
    }
   ],
   "source": [
    "\n",
    "registered_address_df = pd.json_normalize(registered_address)\n",
    "registered_address_df.name=\"Registered Address\"\n",
    "titled_df(registered_address_df,company_id)\n"
   ]
  },
  {
   "cell_type": "code",
   "execution_count": 19,
   "metadata": {},
   "outputs": [
    {
     "data": {
      "text/html": [
       "<h2>Expanded Industry Codes column for DAVID KENDRICK LIMITED / 07178886</h2>"
      ],
      "text/plain": [
       "<IPython.core.display.HTML object>"
      ]
     },
     "metadata": {},
     "output_type": "display_data"
    },
    {
     "data": {
      "text/html": [
       "<div>\n",
       "<style scoped>\n",
       "    .dataframe tbody tr th:only-of-type {\n",
       "        vertical-align: middle;\n",
       "    }\n",
       "\n",
       "    .dataframe tbody tr th {\n",
       "        vertical-align: top;\n",
       "    }\n",
       "\n",
       "    .dataframe thead th {\n",
       "        text-align: right;\n",
       "    }\n",
       "</style>\n",
       "<table border=\"1\" class=\"dataframe\">\n",
       "  <thead>\n",
       "    <tr style=\"text-align: right;\">\n",
       "      <th></th>\n",
       "      <th>industry_code.code</th>\n",
       "      <th>industry_code.description</th>\n",
       "      <th>industry_code.code_scheme_id</th>\n",
       "      <th>industry_code.code_scheme_name</th>\n",
       "      <th>industry_code.uid</th>\n",
       "    </tr>\n",
       "  </thead>\n",
       "  <tbody>\n",
       "    <tr>\n",
       "      <th>0</th>\n",
       "      <td>86.90</td>\n",
       "      <td>Other human health activities</td>\n",
       "      <td>uk_sic_2007</td>\n",
       "      <td>UK SIC Classification 2007</td>\n",
       "      <td>uk_sic_2007-8690</td>\n",
       "    </tr>\n",
       "    <tr>\n",
       "      <th>1</th>\n",
       "      <td>86.90</td>\n",
       "      <td>Other human health activities</td>\n",
       "      <td>eu_nace_2</td>\n",
       "      <td>European Community NACE Rev 2</td>\n",
       "      <td>eu_nace_2-8690</td>\n",
       "    </tr>\n",
       "    <tr>\n",
       "      <th>2</th>\n",
       "      <td>8690</td>\n",
       "      <td>Other human health activities</td>\n",
       "      <td>isic_4</td>\n",
       "      <td>UN ISIC Rev 4</td>\n",
       "      <td>isic_4-8690</td>\n",
       "    </tr>\n",
       "  </tbody>\n",
       "</table>\n",
       "</div>"
      ],
      "text/plain": [
       "  industry_code.code      industry_code.description  \\\n",
       "0              86.90  Other human health activities   \n",
       "1              86.90  Other human health activities   \n",
       "2               8690  Other human health activities   \n",
       "\n",
       "  industry_code.code_scheme_id industry_code.code_scheme_name  \\\n",
       "0                  uk_sic_2007     UK SIC Classification 2007   \n",
       "1                    eu_nace_2  European Community NACE Rev 2   \n",
       "2                       isic_4                  UN ISIC Rev 4   \n",
       "\n",
       "  industry_code.uid  \n",
       "0  uk_sic_2007-8690  \n",
       "1    eu_nace_2-8690  \n",
       "2       isic_4-8690  "
      ]
     },
     "metadata": {},
     "output_type": "display_data"
    }
   ],
   "source": [
    "# Load the JSON data\n",
    "with open(file_path_after) as f:\n",
    "    data = json.load(f)\n",
    "# Extract relevant data for industry codes of \n",
    "industry_data = data['results']['companies'][0]['company']['industry_codes']\n",
    "industry_data_df = pd.json_normalize(industry_data)\n",
    "industry_data_df.name = \"Expanded Industry Codes column\"\n",
    "titled_df(industry_data_df, company_id)"
   ]
  },
  {
   "cell_type": "code",
   "execution_count": 20,
   "metadata": {},
   "outputs": [
    {
     "data": {
      "text/html": [
       "<h2>Company Source for  for DAVID KENDRICK LIMITED / 07178886</h2>"
      ],
      "text/plain": [
       "<IPython.core.display.HTML object>"
      ]
     },
     "metadata": {},
     "output_type": "display_data"
    },
    {
     "data": {
      "text/html": [
       "<div>\n",
       "<style scoped>\n",
       "    .dataframe tbody tr th:only-of-type {\n",
       "        vertical-align: middle;\n",
       "    }\n",
       "\n",
       "    .dataframe tbody tr th {\n",
       "        vertical-align: top;\n",
       "    }\n",
       "\n",
       "    .dataframe thead th {\n",
       "        text-align: right;\n",
       "    }\n",
       "</style>\n",
       "<table border=\"1\" class=\"dataframe\">\n",
       "  <thead>\n",
       "    <tr style=\"text-align: right;\">\n",
       "      <th></th>\n",
       "      <th>publisher</th>\n",
       "      <th>url</th>\n",
       "      <th>terms</th>\n",
       "      <th>retrieved_at</th>\n",
       "    </tr>\n",
       "  </thead>\n",
       "  <tbody>\n",
       "    <tr>\n",
       "      <th>0</th>\n",
       "      <td>UK Companies House</td>\n",
       "      <td>http://xmlgw.companieshouse.gov.uk/</td>\n",
       "      <td>UK Crown Copyright</td>\n",
       "      <td>2021-04-04T10:28:59+00:00</td>\n",
       "    </tr>\n",
       "  </tbody>\n",
       "</table>\n",
       "</div>"
      ],
      "text/plain": [
       "            publisher                                  url  \\\n",
       "0  UK Companies House  http://xmlgw.companieshouse.gov.uk/   \n",
       "\n",
       "                terms               retrieved_at  \n",
       "0  UK Crown Copyright  2021-04-04T10:28:59+00:00  "
      ]
     },
     "metadata": {},
     "output_type": "display_data"
    }
   ],
   "source": [
    "# Load the JSON data\n",
    "with open(file_path_after) as f:\n",
    "    data = json.load(f)\n",
    "# Extract relevant data for industry codes of \n",
    "company_source = data['results']['companies'][0]['company']['source']\n",
    "company_source_df = pd.json_normalize(company_source)\n",
    "company_source_df.name=f\"Company Source for \"\n",
    "titled_df(company_source_df, company_id)\n"
   ]
  }
 ],
 "metadata": {
  "kernelspec": {
   "display_name": "titanic-examp-ZQKJu23b-py3.12",
   "language": "python",
   "name": "python3"
  },
  "language_info": {
   "codemirror_mode": {
    "name": "ipython",
    "version": 3
   },
   "file_extension": ".py",
   "mimetype": "text/x-python",
   "name": "python",
   "nbconvert_exporter": "python",
   "pygments_lexer": "ipython3",
   "version": "3.11.2"
  }
 },
 "nbformat": 4,
 "nbformat_minor": 5
}
